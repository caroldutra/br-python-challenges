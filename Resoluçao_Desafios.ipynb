{
  "nbformat": 4,
  "nbformat_minor": 0,
  "metadata": {
    "colab": {
      "name": "Resoluçao-Desafios.ipynb",
      "provenance": [],
      "collapsed_sections": [
        "DjP1AMnuSjat",
        "1k7oSmCFraRE",
        "QBY2wZg_zTTP",
        "KMIppAVxCcRv",
        "ycPQJWdiL_Ed",
        "9SQcQ9bNOmit"
      ],
      "mount_file_id": "1ezW4UX1Y88JaC-h6UObU6qC7ENr-8XPG",
      "authorship_tag": "ABX9TyOzIRa9OJxj6aqx3N2PidVj",
      "include_colab_link": true
    },
    "kernelspec": {
      "name": "python3",
      "display_name": "Python 3"
    }
  },
  "cells": [
    {
      "cell_type": "markdown",
      "metadata": {
        "id": "view-in-github",
        "colab_type": "text"
      },
      "source": [
        "<a href=\"https://colab.research.google.com/github/caroldutra/br-python-challenges/blob/master/Resolu%C3%A7ao_Desafios.ipynb\" target=\"_parent\"><img src=\"https://colab.research.google.com/assets/colab-badge.svg\" alt=\"Open In Colab\"/></a>"
      ]
    },
    {
      "cell_type": "markdown",
      "metadata": {
        "id": "HOzHNFlOSVTj"
      },
      "source": [
        "## Desafio 1"
      ]
    },
    {
      "cell_type": "code",
      "metadata": {
        "id": "Ezf1W5vLHkSI"
      },
      "source": [
        "palavras = ['red', 'green', 'black', 'pink', 'black', 'white', 'black', 'eyes',\r\n",
        "   'white', 'black', 'orange', 'pink', 'pink', 'red', 'red', 'white', 'orange',\r\n",
        "   'white', \"black\", 'pink', 'green', 'green', 'pink', 'green', 'pink',\r\n",
        "   'white', 'orange', \"orange\", 'red'\r\n",
        "]\r\n",
        "\r\n"
      ],
      "execution_count": null,
      "outputs": []
    },
    {
      "cell_type": "code",
      "metadata": {
        "id": "Tx1G21vm0Q9T"
      },
      "source": [
        "def count_word(x):\r\n",
        "  return palavras.count(x)"
      ],
      "execution_count": null,
      "outputs": []
    },
    {
      "cell_type": "code",
      "metadata": {
        "id": "MmHp9isW0blx",
        "colab": {
          "base_uri": "https://localhost:8080/"
        },
        "outputId": "606adba6-4075-4130-eaf3-8f7c83f40c3e"
      },
      "source": [
        "count_word('eyes')"
      ],
      "execution_count": null,
      "outputs": [
        {
          "output_type": "execute_result",
          "data": {
            "text/plain": [
              "1"
            ]
          },
          "metadata": {
            "tags": []
          },
          "execution_count": 121
        }
      ]
    },
    {
      "cell_type": "markdown",
      "metadata": {
        "id": "DjP1AMnuSjat"
      },
      "source": [
        "## Desafio 2"
      ]
    },
    {
      "cell_type": "code",
      "metadata": {
        "id": "Kxw6kKSWQy6E"
      },
      "source": [
        "def convert_to_sec(number):\r\n",
        "  if number==int(number):\r\n",
        "    return number*3600\r\n",
        "  elif number ==float(number):\r\n",
        "    print('Digite um número inteiro')"
      ],
      "execution_count": null,
      "outputs": []
    },
    {
      "cell_type": "code",
      "metadata": {
        "colab": {
          "base_uri": "https://localhost:8080/"
        },
        "id": "d4vpr0ZKTWe9",
        "outputId": "0db01999-5687-45b5-b0d1-82c8358cd6c9"
      },
      "source": [
        "convert_to_sec(5)"
      ],
      "execution_count": null,
      "outputs": [
        {
          "output_type": "execute_result",
          "data": {
            "text/plain": [
              "18000"
            ]
          },
          "metadata": {
            "tags": []
          },
          "execution_count": 373
        }
      ]
    },
    {
      "cell_type": "markdown",
      "metadata": {
        "id": "w3E0EdySVpuL"
      },
      "source": [
        "## Desafio 3"
      ]
    },
    {
      "cell_type": "code",
      "metadata": {
        "id": "f5MbJl9GVsb2"
      },
      "source": [
        "lista = [1,2,3,4,3,30,3,4,5,6,9,3,2,1,2,4,5,15,6,6,3,13,4,45,5]"
      ],
      "execution_count": null,
      "outputs": []
    },
    {
      "cell_type": "code",
      "metadata": {
        "id": "gRcH7yKIbVaM"
      },
      "source": [
        "def nova_lista(x):\r\n",
        "  return sorted(set(x))"
      ],
      "execution_count": null,
      "outputs": []
    },
    {
      "cell_type": "code",
      "metadata": {
        "colab": {
          "base_uri": "https://localhost:8080/"
        },
        "id": "kgpswHlKcm4_",
        "outputId": "7399ba6e-1f8a-46a0-b95b-073203cd3dc8"
      },
      "source": [
        "nova_lista(lista)"
      ],
      "execution_count": null,
      "outputs": [
        {
          "output_type": "execute_result",
          "data": {
            "text/plain": [
              "[1, 2, 3, 4, 5, 6, 9, 13, 15, 30, 45]"
            ]
          },
          "metadata": {
            "tags": []
          },
          "execution_count": 126
        }
      ]
    },
    {
      "cell_type": "markdown",
      "metadata": {
        "id": "KemsafGEfjjw"
      },
      "source": [
        "## Desafio 4 "
      ]
    },
    {
      "cell_type": "code",
      "metadata": {
        "id": "33KG5Z8DlNe-"
      },
      "source": [
        "def invert_text(y): \r\n",
        "  return \" \".join(y.split()[::-1])"
      ],
      "execution_count": 27,
      "outputs": []
    },
    {
      "cell_type": "code",
      "metadata": {
        "colab": {
          "base_uri": "https://localhost:8080/",
          "height": 35
        },
        "id": "NO8TFWhgleD0",
        "outputId": "905b52d4-ab48-4b7c-f971-1666872d7daa"
      },
      "source": [
        "invert_text('python é legal')"
      ],
      "execution_count": 28,
      "outputs": [
        {
          "output_type": "execute_result",
          "data": {
            "application/vnd.google.colaboratory.intrinsic+json": {
              "type": "string"
            },
            "text/plain": [
              "'legal é python'"
            ]
          },
          "metadata": {
            "tags": []
          },
          "execution_count": 28
        }
      ]
    },
    {
      "cell_type": "markdown",
      "metadata": {
        "id": "1k7oSmCFraRE"
      },
      "source": [
        "## Desafio 5"
      ]
    },
    {
      "cell_type": "code",
      "metadata": {
        "id": "X8XvX_DylgQq"
      },
      "source": [
        "\r\n",
        "numeros_telefone = [\r\n",
        "'(765) 368-1506',\r\n",
        "'(285) 608-2448',\r\n",
        "'(255) 826-9050',\r\n",
        "'(554) 994-1517',\r\n",
        "'(285) 608-2448',\r\n",
        "'(596) 336-5508',\r\n",
        "'(511) 821-7870',\r\n",
        "'(410) 665-4447',\r\n",
        "'(821) 642-8987',\r\n",
        "'(285) 608-2448',\r\n",
        "'(311) 799-3883',\r\n",
        "'(935) 875-2054',\r\n",
        "'(464) 788-2397',\r\n",
        "'(765) 368-1506',\r\n",
        "'(650) 684-1437',\r\n",
        "'(812) 816-0881',\r\n",
        "'(285) 608-2448',\r\n",
        "'(885) 407-1719',\r\n",
        "'(943) 769-1061',\r\n",
        "'(596) 336-5508',\r\n",
        "'(765) 368-1506',\r\n",
        "'(255) 826-9050',\r\n",
        "]"
      ],
      "execution_count": null,
      "outputs": []
    },
    {
      "cell_type": "code",
      "metadata": {
        "colab": {
          "base_uri": "https://localhost:8080/"
        },
        "id": "FYKoPkdKl1yW",
        "outputId": "ec93f02a-5ed7-4c52-93fc-3364ee67a235"
      },
      "source": [
        "list(set(numeros_telefone))"
      ],
      "execution_count": null,
      "outputs": [
        {
          "output_type": "execute_result",
          "data": {
            "text/plain": [
              "['(511) 821-7870',\n",
              " '(464) 788-2397',\n",
              " '(943) 769-1061',\n",
              " '(255) 826-9050',\n",
              " '(311) 799-3883',\n",
              " '(650) 684-1437',\n",
              " '(410) 665-4447',\n",
              " '(554) 994-1517',\n",
              " '(885) 407-1719',\n",
              " '(812) 816-0881',\n",
              " '(765) 368-1506',\n",
              " '(935) 875-2054',\n",
              " '(821) 642-8987',\n",
              " '(285) 608-2448',\n",
              " '(596) 336-5508']"
            ]
          },
          "metadata": {
            "tags": []
          },
          "execution_count": 205
        }
      ]
    },
    {
      "cell_type": "markdown",
      "metadata": {
        "id": "QBY2wZg_zTTP"
      },
      "source": [
        "## Desafio 6"
      ]
    },
    {
      "cell_type": "code",
      "metadata": {
        "id": "hfN3rgSGo51L"
      },
      "source": [
        "a = [1, 1, 2, 3, 5, 8, 13, 21, 34, 55, 89]\r\n",
        "b = [1, 2, 3, 4, 5, 6, 7, 8, 9, 10, 11, 12, 13]"
      ],
      "execution_count": null,
      "outputs": []
    },
    {
      "cell_type": "code",
      "metadata": {
        "id": "MwpWd6IspUfL"
      },
      "source": [
        "def intersection_list(lista1,lista2):\r\n",
        "  novalista = [i for i in lista1 if i in lista2]\r\n",
        "  return list(set(novalista))"
      ],
      "execution_count": null,
      "outputs": []
    },
    {
      "cell_type": "code",
      "metadata": {
        "colab": {
          "base_uri": "https://localhost:8080/"
        },
        "id": "UsNtNOnj7O9P",
        "outputId": "864f1008-82f2-46e1-9fe7-338404aaa882"
      },
      "source": [
        "intersection_list(a,b)"
      ],
      "execution_count": null,
      "outputs": [
        {
          "output_type": "execute_result",
          "data": {
            "text/plain": [
              "[1, 2, 3, 5, 8, 13]"
            ]
          },
          "metadata": {
            "tags": []
          },
          "execution_count": 271
        }
      ]
    },
    {
      "cell_type": "markdown",
      "metadata": {
        "id": "KMIppAVxCcRv"
      },
      "source": [
        "## Desafio 7"
      ]
    },
    {
      "cell_type": "markdown",
      "metadata": {
        "id": "pnF9YsmVLH2P"
      },
      "source": [
        "Tem numeros repetidos!"
      ]
    },
    {
      "cell_type": "code",
      "metadata": {
        "id": "0lheaJnV7SOe"
      },
      "source": [
        "telefones_alunos = ['(873) 810-8267', '(633) 244-7325', '(300) 303-5462', \r\n",
        "                    '(938) 300-8890', '(429) 264-7427', '(737) 805-2326', \r\n",
        "                    '(768) 956-8497', '(941) 225-3869', '(203) 606-9463', \r\n",
        "                    '(294) 430-7720', '(896) 781-5087', '(397) 845-8267', \r\n",
        "                    '(788) 717-6858', '(419) 734-4188', '(682) 595-3278', \r\n",
        "                    '(835) 955-1498', '(296) 415-9944', '(897) 932-2512', \r\n",
        "                    '(263) 415-3893', '(822) 640-8496', '(640) 427-2597', \r\n",
        "                    '(856) 338-7094', '(807) 554-4076', '(641) 367-5279', \r\n",
        "                    '(828) 866-0696', '(727) 376-5749', '(921) 948-2244', \r\n",
        "                    '(964) 710-9625', '(596) 685-1242', '(403) 343-7705', \r\n",
        "                    '(227) 389-3685', '(264) 372-7298', '(797) 649-3653', \r\n",
        "                    '(374) 361-3844', '(618) 490-4228', '(987) 803-5550', \r\n",
        "                    '(228) 976-9699', '(757) 450-9985', '(491) 666-5367',\r\n",
        "                    ]"
      ],
      "execution_count": null,
      "outputs": []
    },
    {
      "cell_type": "code",
      "metadata": {
        "id": "KOKdIGhj7ikM"
      },
      "source": [
        "entraram_no_grupo = ['(596) 685-1242', '(727) 376-5749', '(987) 803-5550', \r\n",
        "                     '(633) 244-7325', '(828) 866-0696', '(263) 415-3893', \r\n",
        "                     '(203) 606-9463', '(296) 415-9944', '(419) 734-4188', \r\n",
        "                     '(618) 490-4228', '(682) 595-3278', '(938) 300-8890', \r\n",
        "                     '(264) 372-7298', '(768) 956-8497', '(737) 805-2326', \r\n",
        "                     '(788) 717-6858', '(228) 976-9699', '(896) 781-5087',\r\n",
        "                     '(374) 361-3844', '(921) 948-2244', '(807) 554-4076', \r\n",
        "                     '(822) 640-8496', '(227) 389-3685', '(429) 264-7427', \r\n",
        "                     '(397) 845-8267']"
      ],
      "execution_count": null,
      "outputs": []
    },
    {
      "cell_type": "code",
      "metadata": {
        "colab": {
          "base_uri": "https://localhost:8080/"
        },
        "id": "G1o1b3FBGOu5",
        "outputId": "185ccae8-b606-4521-c6fe-2024883215a3"
      },
      "source": [
        "len(telefones_alunos)"
      ],
      "execution_count": null,
      "outputs": [
        {
          "output_type": "execute_result",
          "data": {
            "text/plain": [
              "39"
            ]
          },
          "metadata": {
            "tags": []
          },
          "execution_count": 352
        }
      ]
    },
    {
      "cell_type": "code",
      "metadata": {
        "colab": {
          "base_uri": "https://localhost:8080/"
        },
        "id": "J9hFBfMKCwLz",
        "outputId": "ef55a0ba-72b7-4f80-9799-ec27a1949a28"
      },
      "source": [
        "len(entraram_no_grupo)  "
      ],
      "execution_count": null,
      "outputs": [
        {
          "output_type": "execute_result",
          "data": {
            "text/plain": [
              "25"
            ]
          },
          "metadata": {
            "tags": []
          },
          "execution_count": 353
        }
      ]
    },
    {
      "cell_type": "code",
      "metadata": {
        "id": "-wMpG5ThCx_o"
      },
      "source": [
        "for i in set(telefones_alunos):\r\n",
        "  if i in set(entraram_no_grupo):\r\n",
        "    telefones_alunos.remove(i)"
      ],
      "execution_count": null,
      "outputs": []
    },
    {
      "cell_type": "code",
      "metadata": {
        "colab": {
          "base_uri": "https://localhost:8080/"
        },
        "id": "p_AWd3NEC8kT",
        "outputId": "abc2bb32-2dc3-4309-a0f9-1a0ec77de0a9"
      },
      "source": [
        "telefones_alunos"
      ],
      "execution_count": null,
      "outputs": [
        {
          "output_type": "execute_result",
          "data": {
            "text/plain": [
              "['(873) 810-8267',\n",
              " '(300) 303-5462',\n",
              " '(941) 225-3869',\n",
              " '(294) 430-7720',\n",
              " '(835) 955-1498',\n",
              " '(897) 932-2512',\n",
              " '(640) 427-2597',\n",
              " '(856) 338-7094',\n",
              " '(641) 367-5279',\n",
              " '(964) 710-9625',\n",
              " '(403) 343-7705',\n",
              " '(797) 649-3653',\n",
              " '(757) 450-9985',\n",
              " '(491) 666-5367']"
            ]
          },
          "metadata": {
            "tags": []
          },
          "execution_count": 355
        }
      ]
    },
    {
      "cell_type": "code",
      "metadata": {
        "colab": {
          "base_uri": "https://localhost:8080/"
        },
        "id": "mzm7k9JUHLQY",
        "outputId": "284be5fc-3a8e-484e-dca8-4ff2a7ed406b"
      },
      "source": [
        "len(telefones_alunos)"
      ],
      "execution_count": null,
      "outputs": [
        {
          "output_type": "execute_result",
          "data": {
            "text/plain": [
              "14"
            ]
          },
          "metadata": {
            "tags": []
          },
          "execution_count": 356
        }
      ]
    },
    {
      "cell_type": "markdown",
      "metadata": {
        "id": "ycPQJWdiL_Ed"
      },
      "source": [
        "## Desafio 8 "
      ]
    },
    {
      "cell_type": "code",
      "metadata": {
        "id": "8oQZo36UU01v"
      },
      "source": [
        "import string\r\n",
        "pontuacao = string.punctuation"
      ],
      "execution_count": 122,
      "outputs": []
    },
    {
      "cell_type": "code",
      "metadata": {
        "id": "VfqVDvaAHOcD"
      },
      "source": [
        "with open('/content/texto.txt', 'r') as f:\r\n",
        "  texto = f.read()"
      ],
      "execution_count": 73,
      "outputs": []
    },
    {
      "cell_type": "code",
      "metadata": {
        "id": "Zx2iXguMVn9S"
      },
      "source": [
        "texto_sem_pontuacao = [letra if letra not in pontuacao else \" \" for letra in texto]"
      ],
      "execution_count": 74,
      "outputs": []
    },
    {
      "cell_type": "code",
      "metadata": {
        "id": "wVeZVh4nTOle"
      },
      "source": [
        "texto_sem_pontuacao = \"\".join(texto_sem_pontuacao)"
      ],
      "execution_count": 75,
      "outputs": []
    },
    {
      "cell_type": "code",
      "metadata": {
        "id": "vfBlpiMLTYYv"
      },
      "source": [
        "palavras_unicas = list(set(texto_sem_pontuacao.split(\" \")))"
      ],
      "execution_count": 76,
      "outputs": []
    },
    {
      "cell_type": "code",
      "metadata": {
        "colab": {
          "base_uri": "https://localhost:8080/"
        },
        "id": "7d8ZmgHtUJK9",
        "outputId": "c4da9380-9837-4808-904e-740efbce3ea5"
      },
      "source": [
        "sorted(palavras_unicas,key=len)[-10:]"
      ],
      "execution_count": 79,
      "outputs": [
        {
          "output_type": "execute_result",
          "data": {
            "text/plain": [
              "['functional',\n",
              " 'management',\n",
              " 'imperative',\n",
              " 'philosophy',\n",
              " 'readability',\n",
              " 'programmers',\n",
              " 'programming',\n",
              " 'interpreted',\n",
              " 'intermediate',\n",
              " 'comprehensive']"
            ]
          },
          "metadata": {
            "tags": []
          },
          "execution_count": 79
        }
      ]
    },
    {
      "cell_type": "markdown",
      "metadata": {
        "id": "9SQcQ9bNOmit"
      },
      "source": [
        "## Desafio 9 "
      ]
    },
    {
      "cell_type": "code",
      "metadata": {
        "id": "BeYIZ01mOly6"
      },
      "source": [
        "def soma_multiplos3e5(x):\r\n",
        "  listamultiplos =[]\r\n",
        "  for i in range(x+1):\r\n",
        "    if i%3==0 or i%5==0:\r\n",
        "      listamultiplos.append(i)\r\n",
        "  return sum(listamultiplos)\r\n"
      ],
      "execution_count": 97,
      "outputs": []
    },
    {
      "cell_type": "code",
      "metadata": {
        "colab": {
          "base_uri": "https://localhost:8080/"
        },
        "id": "SnCAyL0OZEl0",
        "outputId": "c37fe4e5-b1e6-45b8-8223-5ffdf58b20a9"
      },
      "source": [
        "soma_multiplos3e5(21)"
      ],
      "execution_count": 98,
      "outputs": [
        {
          "output_type": "execute_result",
          "data": {
            "text/plain": [
              "119"
            ]
          },
          "metadata": {
            "tags": []
          },
          "execution_count": 98
        }
      ]
    },
    {
      "cell_type": "markdown",
      "metadata": {
        "id": "YGRLqy5Neb1A"
      },
      "source": [
        "## Desafio 10"
      ]
    },
    {
      "cell_type": "code",
      "metadata": {
        "id": "7FvICfiueaKO"
      },
      "source": [
        "sampleList = [11, 45, 8, 23, 14, 12, 78, 45, 89]"
      ],
      "execution_count": 104,
      "outputs": []
    },
    {
      "cell_type": "code",
      "metadata": {
        "id": "P-r9WAfsfPGJ"
      },
      "source": [
        "def retorna_lista(lista):\r\n",
        "    tamanho_da_lista = len(lista)\r\n",
        "    if tamanho_da_lista%3 == 0:\r\n",
        "        tamanho_listinha = int(tamanho_da_lista/3)\r\n",
        "        for i in range(0,3):\r\n",
        "            listinha = lista[tamanho_listinha*i:tamanho_listinha*(i+1)][::-1]\r\n",
        "            print(f\"Parte {i+1}: {listinha}\")\r\n",
        "        return None\r\n",
        "    else: \r\n",
        "        return print(\"Nao divisivel por 3\")"
      ],
      "execution_count": 105,
      "outputs": []
    },
    {
      "cell_type": "code",
      "metadata": {
        "id": "f3ZAnh7ofW2Z",
        "colab": {
          "base_uri": "https://localhost:8080/"
        },
        "outputId": "ba5f8c87-2f5c-4774-f08a-892a94973f57"
      },
      "source": [
        "retorna_lista(sampleList)"
      ],
      "execution_count": 106,
      "outputs": [
        {
          "output_type": "stream",
          "text": [
            "Parte 1: [8, 45, 11]\n",
            "Parte 2: [12, 14, 23]\n",
            "Parte 3: [89, 45, 78]\n"
          ],
          "name": "stdout"
        }
      ]
    },
    {
      "cell_type": "markdown",
      "metadata": {
        "id": "tNHgoiUlcQT1"
      },
      "source": [
        "## Desafio 11"
      ]
    },
    {
      "cell_type": "code",
      "metadata": {
        "id": "L9jbw5gZa8Jc"
      },
      "source": [
        "def contar_par_impar(entrada):\r\n",
        "  numeropar = 0\r\n",
        "  numeroimpar = 0\r\n",
        "  for numero in entrada:\r\n",
        "    if numero%2==0:\r\n",
        "      numeropar = numeropar + 1\r\n",
        "    elif numero%2!=0:\r\n",
        "      numeroimpar = numeroimpar + 1\r\n",
        "  return (numeropar,numeroimpar)"
      ],
      "execution_count": 120,
      "outputs": []
    },
    {
      "cell_type": "code",
      "metadata": {
        "colab": {
          "base_uri": "https://localhost:8080/"
        },
        "id": "WmC__np3cvVo",
        "outputId": "966de04f-2e96-4152-d234-98a0ae7b47d6"
      },
      "source": [
        "contar_par_impar([3,5,7,8,4])"
      ],
      "execution_count": 121,
      "outputs": [
        {
          "output_type": "execute_result",
          "data": {
            "text/plain": [
              "(2, 3)"
            ]
          },
          "metadata": {
            "tags": []
          },
          "execution_count": 121
        }
      ]
    },
    {
      "cell_type": "markdown",
      "metadata": {
        "id": "4zyKBGvJe6pc"
      },
      "source": [
        "## Desafio 12\r\n",
        "A senha deve ter:\r\n",
        "\r\n",
        "Pelo menos 1 letra entre [a-z] e 1 letra entre [A-Z].\r\n",
        "Pelo menos 1 número entre [0-9].\r\n",
        "Pelo menos 1 caractere de [$ # @].\r\n",
        "Comprimento mínimo de 6 caracteres.\r\n",
        "Comprimento máximo de 16 caracteres.\r\n",
        "Entradas: \"12345678\", \"J3sus0\", \"#Te5t300\", \"J*90j12374\", \"Michheeul\", \"Monk3y6\"\r\n",
        "\r\n",
        "A saída deve ser a senha e um texto indicando se a senha é válida ou inválida:\r\n",
        "\r\n",
        "\"1234\" - Senha inválida\r\n",
        "\"Qw#1234\" - Senha válida"
      ]
    },
    {
      "cell_type": "code",
      "metadata": {
        "id": "rjhokt75sHrx"
      },
      "source": [
        "def valida_senha(senha):\r\n",
        "  minusculas = string.ascii_lowercase\r\n",
        "  maiusculas = string.ascii_uppercase\r\n",
        "  numeros = string.digits\r\n",
        "  especiais = '$#@'\r\n",
        "  regras = [minusculas, maiusculas, numeros, especiais]\r\n",
        "  max = 16\r\n",
        "  min = 6\r\n",
        "  errors = []\r\n",
        "\r\n",
        "  for regra in regras:\r\n",
        "    check = [caractere for caractere in senha if caractere in regra]\r\n",
        "    if len(check) == 0:\r\n",
        "      errors.append(f'Erro na regra: {regra}')\r\n",
        "  if len(senha)<min:\r\n",
        "      print('Senha muito pequena')\r\n",
        "  if len(senha)>max:\r\n",
        "      print('Senha muito grande')\r\n",
        "  if len(errors)>0:\r\n",
        "      print(f'{errors}')\r\n",
        "      return \"Senha inválida\"\r\n",
        "  else:\r\n",
        "      return \"Senha válida\"\r\n",
        "  "
      ],
      "execution_count": 147,
      "outputs": []
    },
    {
      "cell_type": "code",
      "metadata": {
        "colab": {
          "base_uri": "https://localhost:8080/",
          "height": 52
        },
        "id": "P6mRllqwsud0",
        "outputId": "4d720cc2-b81b-49ef-b2ae-9d179b950334"
      },
      "source": [
        "valida_senha('Testando')"
      ],
      "execution_count": 148,
      "outputs": [
        {
          "output_type": "stream",
          "text": [
            "['Erro na regra: 0123456789', 'Erro na regra: $#@']\n"
          ],
          "name": "stdout"
        },
        {
          "output_type": "execute_result",
          "data": {
            "application/vnd.google.colaboratory.intrinsic+json": {
              "type": "string"
            },
            "text/plain": [
              "'Senha inválida'"
            ]
          },
          "metadata": {
            "tags": []
          },
          "execution_count": 148
        }
      ]
    }
  ]
}